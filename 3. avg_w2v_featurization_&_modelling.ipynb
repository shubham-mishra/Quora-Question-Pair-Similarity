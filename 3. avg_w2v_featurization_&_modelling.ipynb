{
 "cells": [
  {
   "cell_type": "code",
   "execution_count": 1,
   "metadata": {},
   "outputs": [],
   "source": [
    "import pandas as pd\n",
    "import matplotlib.pyplot as plt\n",
    "import re\n",
    "import time\n",
    "import warnings\n",
    "import numpy as np\n",
    "from nltk.corpus import stopwords\n",
    "from sklearn.preprocessing import normalize\n",
    "\n",
    "from sklearn.feature_extraction.text import CountVectorizer\n",
    "from sklearn.feature_extraction.text import TfidfVectorizer\n",
    "from sklearn.metrics.classification import log_loss\n",
    "from sklearn.metrics import confusion_matrix\n",
    "warnings.filterwarnings(\"ignore\")\n",
    "import sys\n",
    "import os \n",
    "import pandas as pd\n",
    "import numpy as np\n",
    "from tqdm import tqdm\n",
    "\n",
    "import spacy\n",
    "from sklearn.feature_extraction.text import TfidfVectorizer\n",
    "from sklearn.feature_extraction.text import CountVectorizer\n",
    "from sklearn.linear_model import SGDClassifier\n",
    "from sklearn.calibration import CalibratedClassifierCV\n",
    "from sklearn.model_selection import StratifiedKFold, RandomizedSearchCV\n",
    "\n",
    "from scipy.sparse import hstack\n",
    "import seaborn as sns\n",
    "\n",
    "import xgboost as xgb\n",
    "\n",
    "from prettytable import PrettyTable"
   ]
  },
  {
   "cell_type": "code",
   "execution_count": 2,
   "metadata": {},
   "outputs": [],
   "source": [
    "#reading train, test and CV data\n",
    "train = pd.read_csv('nlp_features_train.csv');\n",
    "test  = pd.read_csv('nlp_features_test.csv');\n",
    "cv    = pd.read_csv('nlp_features_cv.csv');"
   ]
  },
  {
   "cell_type": "code",
   "execution_count": 3,
   "metadata": {},
   "outputs": [],
   "source": [
    "#to avoid decoding problem\n",
    "def convert_str(df):\n",
    "    df['question1'] = df['question1'].apply(lambda x: str(x))\n",
    "    df['question2'] = df['question2'].apply(lambda x: str(x))\n",
    "    return df"
   ]
  },
  {
   "cell_type": "code",
   "execution_count": 4,
   "metadata": {},
   "outputs": [
    {
     "data": {
      "text/html": [
       "<div>\n",
       "<style scoped>\n",
       "    .dataframe tbody tr th:only-of-type {\n",
       "        vertical-align: middle;\n",
       "    }\n",
       "\n",
       "    .dataframe tbody tr th {\n",
       "        vertical-align: top;\n",
       "    }\n",
       "\n",
       "    .dataframe thead th {\n",
       "        text-align: right;\n",
       "    }\n",
       "</style>\n",
       "<table border=\"1\" class=\"dataframe\">\n",
       "  <thead>\n",
       "    <tr style=\"text-align: right;\">\n",
       "      <th></th>\n",
       "      <th>id</th>\n",
       "      <th>qid1</th>\n",
       "      <th>qid2</th>\n",
       "      <th>question1</th>\n",
       "      <th>question2</th>\n",
       "      <th>freq_qid1</th>\n",
       "      <th>freq_qid2</th>\n",
       "      <th>q1Len</th>\n",
       "      <th>q2Len</th>\n",
       "      <th>q1_n_words</th>\n",
       "      <th>...</th>\n",
       "      <th>ctc_max</th>\n",
       "      <th>last_word_eq</th>\n",
       "      <th>first_word_eq</th>\n",
       "      <th>abs_len_diff</th>\n",
       "      <th>mean_len</th>\n",
       "      <th>token_set_ratio</th>\n",
       "      <th>token_sort_ratio</th>\n",
       "      <th>fuzz_ratio</th>\n",
       "      <th>fuzz_partial_ratio</th>\n",
       "      <th>longest_substr_ratio</th>\n",
       "    </tr>\n",
       "  </thead>\n",
       "  <tbody>\n",
       "    <tr>\n",
       "      <td>0</td>\n",
       "      <td>394633</td>\n",
       "      <td>185833</td>\n",
       "      <td>3212</td>\n",
       "      <td>one amp equals how many watts</td>\n",
       "      <td>what is the difference between amps  watts and...</td>\n",
       "      <td>2</td>\n",
       "      <td>2</td>\n",
       "      <td>30</td>\n",
       "      <td>53</td>\n",
       "      <td>7</td>\n",
       "      <td>...</td>\n",
       "      <td>0.199996</td>\n",
       "      <td>0.0</td>\n",
       "      <td>0.0</td>\n",
       "      <td>3.0</td>\n",
       "      <td>7.5</td>\n",
       "      <td>42</td>\n",
       "      <td>42</td>\n",
       "      <td>37</td>\n",
       "      <td>50</td>\n",
       "      <td>0.225806</td>\n",
       "    </tr>\n",
       "    <tr>\n",
       "      <td>1</td>\n",
       "      <td>339905</td>\n",
       "      <td>467594</td>\n",
       "      <td>467595</td>\n",
       "      <td>what is dmart own pentagon retail model</td>\n",
       "      <td>what is dmart own triangle retail model</td>\n",
       "      <td>1</td>\n",
       "      <td>1</td>\n",
       "      <td>40</td>\n",
       "      <td>40</td>\n",
       "      <td>8</td>\n",
       "      <td>...</td>\n",
       "      <td>1.999933</td>\n",
       "      <td>1.0</td>\n",
       "      <td>1.0</td>\n",
       "      <td>0.0</td>\n",
       "      <td>7.0</td>\n",
       "      <td>87</td>\n",
       "      <td>79</td>\n",
       "      <td>87</td>\n",
       "      <td>88</td>\n",
       "      <td>0.439024</td>\n",
       "    </tr>\n",
       "    <tr>\n",
       "      <td>2</td>\n",
       "      <td>131352</td>\n",
       "      <td>24396</td>\n",
       "      <td>146824</td>\n",
       "      <td>what is a meaning of life</td>\n",
       "      <td>what is the meaning of  life</td>\n",
       "      <td>5</td>\n",
       "      <td>5</td>\n",
       "      <td>26</td>\n",
       "      <td>30</td>\n",
       "      <td>7</td>\n",
       "      <td>...</td>\n",
       "      <td>1.249969</td>\n",
       "      <td>1.0</td>\n",
       "      <td>1.0</td>\n",
       "      <td>0.0</td>\n",
       "      <td>6.0</td>\n",
       "      <td>96</td>\n",
       "      <td>88</td>\n",
       "      <td>91</td>\n",
       "      <td>85</td>\n",
       "      <td>0.444444</td>\n",
       "    </tr>\n",
       "    <tr>\n",
       "      <td>3</td>\n",
       "      <td>43077</td>\n",
       "      <td>77539</td>\n",
       "      <td>77540</td>\n",
       "      <td>how can i unlock my iphone if i forget the pas...</td>\n",
       "      <td>how can i unlock an iphone 6 plus without a pa...</td>\n",
       "      <td>1</td>\n",
       "      <td>1</td>\n",
       "      <td>52</td>\n",
       "      <td>53</td>\n",
       "      <td>12</td>\n",
       "      <td>...</td>\n",
       "      <td>0.999983</td>\n",
       "      <td>1.0</td>\n",
       "      <td>1.0</td>\n",
       "      <td>0.0</td>\n",
       "      <td>11.0</td>\n",
       "      <td>79</td>\n",
       "      <td>64</td>\n",
       "      <td>76</td>\n",
       "      <td>75</td>\n",
       "      <td>0.320755</td>\n",
       "    </tr>\n",
       "    <tr>\n",
       "      <td>4</td>\n",
       "      <td>221419</td>\n",
       "      <td>294898</td>\n",
       "      <td>97822</td>\n",
       "      <td>which are the best online courses to learn pyt...</td>\n",
       "      <td>what is the best online resources to learn pyt...</td>\n",
       "      <td>1</td>\n",
       "      <td>3</td>\n",
       "      <td>111</td>\n",
       "      <td>50</td>\n",
       "      <td>24</td>\n",
       "      <td>...</td>\n",
       "      <td>0.666659</td>\n",
       "      <td>0.0</td>\n",
       "      <td>0.0</td>\n",
       "      <td>11.0</td>\n",
       "      <td>14.5</td>\n",
       "      <td>78</td>\n",
       "      <td>46</td>\n",
       "      <td>52</td>\n",
       "      <td>84</td>\n",
       "      <td>0.372549</td>\n",
       "    </tr>\n",
       "  </tbody>\n",
       "</table>\n",
       "<p>5 rows × 32 columns</p>\n",
       "</div>"
      ],
      "text/plain": [
       "       id    qid1    qid2                                          question1  \\\n",
       "0  394633  185833    3212                     one amp equals how many watts    \n",
       "1  339905  467594  467595           what is dmart own pentagon retail model    \n",
       "2  131352   24396  146824                         what is a meaning of life    \n",
       "3   43077   77539   77540  how can i unlock my iphone if i forget the pas...   \n",
       "4  221419  294898   97822  which are the best online courses to learn pyt...   \n",
       "\n",
       "                                           question2  freq_qid1  freq_qid2  \\\n",
       "0  what is the difference between amps  watts and...          2          2   \n",
       "1           what is dmart own triangle retail model           1          1   \n",
       "2                     what is the meaning of  life            5          5   \n",
       "3  how can i unlock an iphone 6 plus without a pa...          1          1   \n",
       "4  what is the best online resources to learn pyt...          1          3   \n",
       "\n",
       "   q1Len  q2Len  q1_n_words  ...   ctc_max  last_word_eq  first_word_eq  \\\n",
       "0     30     53           7  ...  0.199996           0.0            0.0   \n",
       "1     40     40           8  ...  1.999933           1.0            1.0   \n",
       "2     26     30           7  ...  1.249969           1.0            1.0   \n",
       "3     52     53          12  ...  0.999983           1.0            1.0   \n",
       "4    111     50          24  ...  0.666659           0.0            0.0   \n",
       "\n",
       "   abs_len_diff  mean_len  token_set_ratio  token_sort_ratio  fuzz_ratio  \\\n",
       "0           3.0       7.5               42                42          37   \n",
       "1           0.0       7.0               87                79          87   \n",
       "2           0.0       6.0               96                88          91   \n",
       "3           0.0      11.0               79                64          76   \n",
       "4          11.0      14.5               78                46          52   \n",
       "\n",
       "   fuzz_partial_ratio  longest_substr_ratio  \n",
       "0                  50              0.225806  \n",
       "1                  88              0.439024  \n",
       "2                  85              0.444444  \n",
       "3                  75              0.320755  \n",
       "4                  84              0.372549  \n",
       "\n",
       "[5 rows x 32 columns]"
      ]
     },
     "execution_count": 4,
     "metadata": {},
     "output_type": "execute_result"
    }
   ],
   "source": [
    "train = convert_str(train);\n",
    "train.head()"
   ]
  },
  {
   "cell_type": "code",
   "execution_count": 5,
   "metadata": {},
   "outputs": [],
   "source": [
    "test  = convert_str(test);\n",
    "cv = convert_str(cv);"
   ]
  },
  {
   "cell_type": "markdown",
   "metadata": {},
   "source": [
    "### Featurizing question1 and question2 using tfidf wtd w2v\n",
    " "
   ]
  },
  {
   "cell_type": "code",
   "execution_count": 6,
   "metadata": {},
   "outputs": [],
   "source": [
    "# merge texts\n",
    "questions = list(train['question1']) + list(train['question2'])\n",
    "\n",
    "tfidf = TfidfVectorizer(lowercase=False, )\n",
    "tfidf.fit_transform(questions)\n",
    "\n",
    "# dict key:word and value:tf-idf score\n",
    "word2tfidf = dict(zip(tfidf.get_feature_names(), tfidf.idf_))"
   ]
  },
  {
   "cell_type": "markdown",
   "metadata": {},
   "source": [
    "<h4>Featurizing on train data</h4>"
   ]
  },
  {
   "cell_type": "code",
   "execution_count": 7,
   "metadata": {},
   "outputs": [
    {
     "name": "stderr",
     "output_type": "stream",
     "text": [
      "100%|█████████████████████████████████████████████████████████████████████████████████████████████████████| 198102/198102 [31:13<00:00, 105.74it/s]\n"
     ]
    }
   ],
   "source": [
    "nlp = spacy.load('en_core_web_lg')\n",
    "\n",
    "train_vecs1 = []\n",
    "for qu1 in tqdm(list(train['question1'])):\n",
    "    doc1 = nlp(qu1) \n",
    "    mean_vec1 = np.zeros([len(doc1), len(doc1[0].vector)])\n",
    "    for word1 in doc1:\n",
    "        # word2vec\n",
    "        vec1 = word1.vector\n",
    "        # fetch df score\n",
    "        try:\n",
    "            idf = word2tfidf[str(word1)]\n",
    "        except:\n",
    "            idf = 0\n",
    "        # compute final vec\n",
    "        mean_vec1 += vec1 * idf\n",
    "    mean_vec1 = mean_vec1.mean(axis=0)\n",
    "    train_vecs1.append(mean_vec1)\n",
    "    \n",
    "train['q1_feats_m'] = list(train_vecs1)"
   ]
  },
  {
   "cell_type": "code",
   "execution_count": 8,
   "metadata": {},
   "outputs": [
    {
     "name": "stderr",
     "output_type": "stream",
     "text": [
      "100%|█████████████████████████████████████████████████████████████████████████████████████████████████████| 198102/198102 [29:36<00:00, 111.52it/s]\n"
     ]
    }
   ],
   "source": [
    "train_vecs2 = []\n",
    "for qu2 in tqdm(list(train['question2'])):\n",
    "    doc2 = nlp(qu2) \n",
    "    mean_vec2 = np.zeros([len(doc2), len(doc2[0].vector)])\n",
    "    for word2 in doc2:\n",
    "        # word2vec\n",
    "        vec2 = word2.vector\n",
    "        # fetch df score\n",
    "        try:\n",
    "            idf = word2tfidf[str(word2)]\n",
    "        except:\n",
    "            #print word\n",
    "            idf = 0\n",
    "        # compute final vec\n",
    "        mean_vec2 += vec2 * idf\n",
    "    mean_vec2 = mean_vec2.mean(axis=0)\n",
    "    train_vecs2.append(mean_vec2)\n",
    "train['q2_feats_m'] = list(train_vecs2)"
   ]
  },
  {
   "cell_type": "markdown",
   "metadata": {},
   "source": [
    "<h4>Featurizing on test data</h4>"
   ]
  },
  {
   "cell_type": "code",
   "execution_count": 9,
   "metadata": {},
   "outputs": [
    {
     "name": "stderr",
     "output_type": "stream",
     "text": [
      "100%|█████████████████████████████████████████████████████████████████████████████████████████████████████| 121287/121287 [18:02<00:00, 106.84it/s]\n"
     ]
    }
   ],
   "source": [
    "test_vecs1 = []\n",
    "\n",
    "for qu1 in tqdm(list(test['question1'])):\n",
    "    doc1 = nlp(qu1) \n",
    "    mean_vec1 = np.zeros([len(doc1), len(doc1[0].vector)])\n",
    "    for word in doc1:\n",
    "        # word2vec\n",
    "        vec1 = word.vector\n",
    "        # fetch df score\n",
    "        try:\n",
    "            idf = word2tfidf[str(word2)]\n",
    "        except:\n",
    "            #print word\n",
    "            idf = 0\n",
    "        # compute final vec\n",
    "        mean_vec1 += vec1 * idf\n",
    "    mean_vec1 = mean_vec1.mean(axis=0)\n",
    "    test_vecs1.append(mean_vec1)\n",
    "test['q1_feats_m'] = list(test_vecs1)"
   ]
  },
  {
   "cell_type": "code",
   "execution_count": 10,
   "metadata": {},
   "outputs": [
    {
     "name": "stderr",
     "output_type": "stream",
     "text": [
      "100%|█████████████████████████████████████████████████████████████████████████████████████████████████████| 121287/121287 [18:40<00:00, 108.20it/s]\n"
     ]
    }
   ],
   "source": [
    "test_vecs2 = []\n",
    "for qu2 in tqdm(list(test['question2'])):\n",
    "    doc2 = nlp(qu2) \n",
    "    mean_vec2 = np.zeros([len(doc2), len(doc2[0].vector)])\n",
    "    for word2 in doc2:\n",
    "        # word2vec\n",
    "        vec2 = word2.vector\n",
    "        # fetch df score\n",
    "        try:\n",
    "            idf = word2tfidf[str(word2)]\n",
    "        except:\n",
    "            #print word\n",
    "            idf = 0\n",
    "        # compute final vec\n",
    "        mean_vec2 += vec2 * idf\n",
    "    mean_vec2 = mean_vec2.mean(axis=0)\n",
    "    test_vecs2.append(mean_vec2)\n",
    "test['q2_feats_m'] = list(test_vecs2)"
   ]
  },
  {
   "cell_type": "markdown",
   "metadata": {},
   "source": [
    "<h4>Featurizing on cv data</h4>"
   ]
  },
  {
   "cell_type": "code",
   "execution_count": 11,
   "metadata": {},
   "outputs": [
    {
     "name": "stderr",
     "output_type": "stream",
     "text": [
      "100%|███████████████████████████████████████████████████████████████████████████████████████████████████████| 84901/84901 [13:11<00:00, 107.29it/s]\n"
     ]
    }
   ],
   "source": [
    "cv_vecs1 = []\n",
    "\n",
    "for qu1 in tqdm(list(cv['question1'])):\n",
    "    doc1 = nlp(qu1) \n",
    "    mean_vec1 = np.zeros([len(doc1), len(doc1[0].vector)])\n",
    "    for word in doc1:\n",
    "        # word2vec\n",
    "        vec1 = word.vector\n",
    "        # fetch df score\n",
    "        try:\n",
    "            idf = word2tfidf[str(word2)]\n",
    "        except:\n",
    "            #print word\n",
    "            idf = 0\n",
    "        # compute final vec\n",
    "        mean_vec1 += vec1 * idf\n",
    "    mean_vec1 = mean_vec1.mean(axis=0)\n",
    "    cv_vecs1.append(mean_vec1)\n",
    "cv['q1_feats_m'] = list(cv_vecs1)"
   ]
  },
  {
   "cell_type": "code",
   "execution_count": 12,
   "metadata": {},
   "outputs": [
    {
     "name": "stderr",
     "output_type": "stream",
     "text": [
      "100%|███████████████████████████████████████████████████████████████████████████████████████████████████████| 84901/84901 [13:11<00:00, 107.27it/s]\n"
     ]
    }
   ],
   "source": [
    "cv_vecs2 = []\n",
    "for qu2 in tqdm(list(cv['question2'])):\n",
    "    doc2 = nlp(qu2) \n",
    "    mean_vec2 = np.zeros([len(doc2), len(doc2[0].vector)])\n",
    "    for word2 in doc2:\n",
    "        # word2vec\n",
    "        vec2 = word2.vector\n",
    "        # fetch df score\n",
    "        try:\n",
    "            idf = word2tfidf[str(word2)]\n",
    "        except:\n",
    "            #print word\n",
    "            idf = 0\n",
    "        # compute final vec\n",
    "        mean_vec2 += vec2 * idf\n",
    "    mean_vec2 = mean_vec2.mean(axis=0)\n",
    "    cv_vecs2.append(mean_vec2)\n",
    "cv['q2_feats_m'] = list(cv_vecs2)"
   ]
  },
  {
   "cell_type": "markdown",
   "metadata": {},
   "source": [
    "## Merging vectorized features"
   ]
  },
  {
   "cell_type": "markdown",
   "metadata": {},
   "source": [
    "### merging training data"
   ]
  },
  {
   "cell_type": "code",
   "execution_count": 13,
   "metadata": {},
   "outputs": [],
   "source": [
    "#creating seperate DF for w2v of question 1 and 2\n",
    "df_q1 = pd.DataFrame(train.q1_feats_m.values.tolist(), index= train.index)\n",
    "df_q2 = pd.DataFrame(train.q2_feats_m.values.tolist(), index=train.index)\n",
    "train = train.drop(['q1_feats_m', 'q2_feats_m'], axis=1)"
   ]
  },
  {
   "cell_type": "code",
   "execution_count": 14,
   "metadata": {},
   "outputs": [],
   "source": [
    "#putting id of train into both DF\n",
    "df_q1['id'] = train['id']\n",
    "df_q2['id'] = train['id']"
   ]
  },
  {
   "cell_type": "code",
   "execution_count": 15,
   "metadata": {},
   "outputs": [
    {
     "data": {
      "text/html": [
       "<div>\n",
       "<style scoped>\n",
       "    .dataframe tbody tr th:only-of-type {\n",
       "        vertical-align: middle;\n",
       "    }\n",
       "\n",
       "    .dataframe tbody tr th {\n",
       "        vertical-align: top;\n",
       "    }\n",
       "\n",
       "    .dataframe thead th {\n",
       "        text-align: right;\n",
       "    }\n",
       "</style>\n",
       "<table border=\"1\" class=\"dataframe\">\n",
       "  <thead>\n",
       "    <tr style=\"text-align: right;\">\n",
       "      <th></th>\n",
       "      <th>id</th>\n",
       "      <th>qid1</th>\n",
       "      <th>qid2</th>\n",
       "      <th>question1</th>\n",
       "      <th>question2</th>\n",
       "      <th>freq_qid1</th>\n",
       "      <th>freq_qid2</th>\n",
       "      <th>q1Len</th>\n",
       "      <th>q2Len</th>\n",
       "      <th>q1_n_words</th>\n",
       "      <th>...</th>\n",
       "      <th>290_y</th>\n",
       "      <th>291_y</th>\n",
       "      <th>292_y</th>\n",
       "      <th>293_y</th>\n",
       "      <th>294_y</th>\n",
       "      <th>295_y</th>\n",
       "      <th>296_y</th>\n",
       "      <th>297_y</th>\n",
       "      <th>298_y</th>\n",
       "      <th>299_y</th>\n",
       "    </tr>\n",
       "  </thead>\n",
       "  <tbody>\n",
       "    <tr>\n",
       "      <td>0</td>\n",
       "      <td>394633</td>\n",
       "      <td>185833</td>\n",
       "      <td>3212</td>\n",
       "      <td>one amp equals how many watts</td>\n",
       "      <td>what is the difference between amps  watts and...</td>\n",
       "      <td>2</td>\n",
       "      <td>2</td>\n",
       "      <td>30</td>\n",
       "      <td>53</td>\n",
       "      <td>7</td>\n",
       "      <td>...</td>\n",
       "      <td>-2.693894</td>\n",
       "      <td>-14.901176</td>\n",
       "      <td>5.128220</td>\n",
       "      <td>5.728596</td>\n",
       "      <td>-7.502452</td>\n",
       "      <td>7.165957</td>\n",
       "      <td>4.377521</td>\n",
       "      <td>-7.439754</td>\n",
       "      <td>3.364170</td>\n",
       "      <td>-5.598648</td>\n",
       "    </tr>\n",
       "    <tr>\n",
       "      <td>1</td>\n",
       "      <td>339905</td>\n",
       "      <td>467594</td>\n",
       "      <td>467595</td>\n",
       "      <td>what is dmart own pentagon retail model</td>\n",
       "      <td>what is dmart own triangle retail model</td>\n",
       "      <td>1</td>\n",
       "      <td>1</td>\n",
       "      <td>40</td>\n",
       "      <td>40</td>\n",
       "      <td>8</td>\n",
       "      <td>...</td>\n",
       "      <td>-7.720754</td>\n",
       "      <td>8.802047</td>\n",
       "      <td>10.015510</td>\n",
       "      <td>11.371371</td>\n",
       "      <td>-7.907477</td>\n",
       "      <td>-8.813922</td>\n",
       "      <td>-8.071901</td>\n",
       "      <td>-2.865460</td>\n",
       "      <td>7.421386</td>\n",
       "      <td>7.570686</td>\n",
       "    </tr>\n",
       "    <tr>\n",
       "      <td>2</td>\n",
       "      <td>131352</td>\n",
       "      <td>24396</td>\n",
       "      <td>146824</td>\n",
       "      <td>what is a meaning of life</td>\n",
       "      <td>what is the meaning of  life</td>\n",
       "      <td>5</td>\n",
       "      <td>5</td>\n",
       "      <td>26</td>\n",
       "      <td>30</td>\n",
       "      <td>7</td>\n",
       "      <td>...</td>\n",
       "      <td>-6.257824</td>\n",
       "      <td>-3.298769</td>\n",
       "      <td>-2.796339</td>\n",
       "      <td>-3.863447</td>\n",
       "      <td>1.112255</td>\n",
       "      <td>3.300804</td>\n",
       "      <td>-3.501771</td>\n",
       "      <td>1.544473</td>\n",
       "      <td>-0.689151</td>\n",
       "      <td>-4.159499</td>\n",
       "    </tr>\n",
       "    <tr>\n",
       "      <td>3</td>\n",
       "      <td>43077</td>\n",
       "      <td>77539</td>\n",
       "      <td>77540</td>\n",
       "      <td>how can i unlock my iphone if i forget the pas...</td>\n",
       "      <td>how can i unlock an iphone 6 plus without a pa...</td>\n",
       "      <td>1</td>\n",
       "      <td>1</td>\n",
       "      <td>52</td>\n",
       "      <td>53</td>\n",
       "      <td>12</td>\n",
       "      <td>...</td>\n",
       "      <td>-16.185374</td>\n",
       "      <td>8.990575</td>\n",
       "      <td>-4.163904</td>\n",
       "      <td>2.844192</td>\n",
       "      <td>12.438261</td>\n",
       "      <td>0.954519</td>\n",
       "      <td>-7.808202</td>\n",
       "      <td>10.853596</td>\n",
       "      <td>-7.612176</td>\n",
       "      <td>11.641490</td>\n",
       "    </tr>\n",
       "    <tr>\n",
       "      <td>4</td>\n",
       "      <td>221419</td>\n",
       "      <td>294898</td>\n",
       "      <td>97822</td>\n",
       "      <td>which are the best online courses to learn pyt...</td>\n",
       "      <td>what is the best online resources to learn pyt...</td>\n",
       "      <td>1</td>\n",
       "      <td>3</td>\n",
       "      <td>111</td>\n",
       "      <td>50</td>\n",
       "      <td>24</td>\n",
       "      <td>...</td>\n",
       "      <td>-3.179064</td>\n",
       "      <td>-4.292604</td>\n",
       "      <td>-10.911485</td>\n",
       "      <td>2.174121</td>\n",
       "      <td>5.454123</td>\n",
       "      <td>3.782682</td>\n",
       "      <td>1.179962</td>\n",
       "      <td>-8.992926</td>\n",
       "      <td>-3.421847</td>\n",
       "      <td>10.716233</td>\n",
       "    </tr>\n",
       "  </tbody>\n",
       "</table>\n",
       "<p>5 rows × 632 columns</p>\n",
       "</div>"
      ],
      "text/plain": [
       "       id    qid1    qid2                                          question1  \\\n",
       "0  394633  185833    3212                     one amp equals how many watts    \n",
       "1  339905  467594  467595           what is dmart own pentagon retail model    \n",
       "2  131352   24396  146824                         what is a meaning of life    \n",
       "3   43077   77539   77540  how can i unlock my iphone if i forget the pas...   \n",
       "4  221419  294898   97822  which are the best online courses to learn pyt...   \n",
       "\n",
       "                                           question2  freq_qid1  freq_qid2  \\\n",
       "0  what is the difference between amps  watts and...          2          2   \n",
       "1           what is dmart own triangle retail model           1          1   \n",
       "2                     what is the meaning of  life            5          5   \n",
       "3  how can i unlock an iphone 6 plus without a pa...          1          1   \n",
       "4  what is the best online resources to learn pyt...          1          3   \n",
       "\n",
       "   q1Len  q2Len  q1_n_words  ...      290_y      291_y      292_y      293_y  \\\n",
       "0     30     53           7  ...  -2.693894 -14.901176   5.128220   5.728596   \n",
       "1     40     40           8  ...  -7.720754   8.802047  10.015510  11.371371   \n",
       "2     26     30           7  ...  -6.257824  -3.298769  -2.796339  -3.863447   \n",
       "3     52     53          12  ... -16.185374   8.990575  -4.163904   2.844192   \n",
       "4    111     50          24  ...  -3.179064  -4.292604 -10.911485   2.174121   \n",
       "\n",
       "       294_y     295_y     296_y      297_y     298_y      299_y  \n",
       "0  -7.502452  7.165957  4.377521  -7.439754  3.364170  -5.598648  \n",
       "1  -7.907477 -8.813922 -8.071901  -2.865460  7.421386   7.570686  \n",
       "2   1.112255  3.300804 -3.501771   1.544473 -0.689151  -4.159499  \n",
       "3  12.438261  0.954519 -7.808202  10.853596 -7.612176  11.641490  \n",
       "4   5.454123  3.782682  1.179962  -8.992926 -3.421847  10.716233  \n",
       "\n",
       "[5 rows x 632 columns]"
      ]
     },
     "execution_count": 15,
     "metadata": {},
     "output_type": "execute_result"
    }
   ],
   "source": [
    "df = df_q1.merge(df_q2, on='id', how='left')\n",
    "df_train = train.merge(df, on='id', how='left')\n",
    "df_train.head()"
   ]
  },
  {
   "cell_type": "code",
   "execution_count": 16,
   "metadata": {},
   "outputs": [],
   "source": [
    "#saving features in excel\n",
    "df_train.to_csv('final_features_avg_w2v_train.csv')"
   ]
  },
  {
   "cell_type": "markdown",
   "metadata": {},
   "source": [
    "### merging CV data"
   ]
  },
  {
   "cell_type": "code",
   "execution_count": 17,
   "metadata": {},
   "outputs": [],
   "source": [
    "df_q1 = pd.DataFrame(cv.q1_feats_m.values.tolist(), index=cv.index)\n",
    "df_q2 = pd.DataFrame(cv.q2_feats_m.values.tolist(), index=cv.index)\n",
    "cv = cv.drop(['q1_feats_m', 'q2_feats_m'], axis=1)"
   ]
  },
  {
   "cell_type": "code",
   "execution_count": 18,
   "metadata": {},
   "outputs": [],
   "source": [
    "df_q1['id'] = cv['id']\n",
    "df_q2['id'] = cv['id']"
   ]
  },
  {
   "cell_type": "code",
   "execution_count": 19,
   "metadata": {},
   "outputs": [
    {
     "data": {
      "text/html": [
       "<div>\n",
       "<style scoped>\n",
       "    .dataframe tbody tr th:only-of-type {\n",
       "        vertical-align: middle;\n",
       "    }\n",
       "\n",
       "    .dataframe tbody tr th {\n",
       "        vertical-align: top;\n",
       "    }\n",
       "\n",
       "    .dataframe thead th {\n",
       "        text-align: right;\n",
       "    }\n",
       "</style>\n",
       "<table border=\"1\" class=\"dataframe\">\n",
       "  <thead>\n",
       "    <tr style=\"text-align: right;\">\n",
       "      <th></th>\n",
       "      <th>id</th>\n",
       "      <th>qid1</th>\n",
       "      <th>qid2</th>\n",
       "      <th>question1</th>\n",
       "      <th>question2</th>\n",
       "      <th>freq_qid1</th>\n",
       "      <th>freq_qid2</th>\n",
       "      <th>q1Len</th>\n",
       "      <th>q2Len</th>\n",
       "      <th>q1_n_words</th>\n",
       "      <th>...</th>\n",
       "      <th>290_y</th>\n",
       "      <th>291_y</th>\n",
       "      <th>292_y</th>\n",
       "      <th>293_y</th>\n",
       "      <th>294_y</th>\n",
       "      <th>295_y</th>\n",
       "      <th>296_y</th>\n",
       "      <th>297_y</th>\n",
       "      <th>298_y</th>\n",
       "      <th>299_y</th>\n",
       "    </tr>\n",
       "  </thead>\n",
       "  <tbody>\n",
       "    <tr>\n",
       "      <td>0</td>\n",
       "      <td>204827</td>\n",
       "      <td>307828</td>\n",
       "      <td>307829</td>\n",
       "      <td>how does distilled water differ from spring wa...</td>\n",
       "      <td>why is distilled water better than spring water</td>\n",
       "      <td>1</td>\n",
       "      <td>2</td>\n",
       "      <td>50</td>\n",
       "      <td>48</td>\n",
       "      <td>9</td>\n",
       "      <td>...</td>\n",
       "      <td>-8.180585</td>\n",
       "      <td>-7.685680</td>\n",
       "      <td>3.621565</td>\n",
       "      <td>-13.419825</td>\n",
       "      <td>-2.762812</td>\n",
       "      <td>-3.844124</td>\n",
       "      <td>-14.450468</td>\n",
       "      <td>-15.873128</td>\n",
       "      <td>0.851618</td>\n",
       "      <td>-3.716519</td>\n",
       "    </tr>\n",
       "    <tr>\n",
       "      <td>1</td>\n",
       "      <td>35012</td>\n",
       "      <td>64051</td>\n",
       "      <td>64052</td>\n",
       "      <td>how do i quit watching porn and focus in life</td>\n",
       "      <td>why did you quit watching porn</td>\n",
       "      <td>1</td>\n",
       "      <td>1</td>\n",
       "      <td>46</td>\n",
       "      <td>31</td>\n",
       "      <td>11</td>\n",
       "      <td>...</td>\n",
       "      <td>6.130694</td>\n",
       "      <td>-1.629369</td>\n",
       "      <td>-8.314602</td>\n",
       "      <td>-3.119525</td>\n",
       "      <td>5.991219</td>\n",
       "      <td>3.410337</td>\n",
       "      <td>-2.202939</td>\n",
       "      <td>0.728919</td>\n",
       "      <td>0.274184</td>\n",
       "      <td>2.286874</td>\n",
       "    </tr>\n",
       "    <tr>\n",
       "      <td>2</td>\n",
       "      <td>400122</td>\n",
       "      <td>313281</td>\n",
       "      <td>533461</td>\n",
       "      <td>why do you use twitter  but not facebook</td>\n",
       "      <td>why do you not use twitter</td>\n",
       "      <td>1</td>\n",
       "      <td>1</td>\n",
       "      <td>41</td>\n",
       "      <td>27</td>\n",
       "      <td>10</td>\n",
       "      <td>...</td>\n",
       "      <td>-5.504728</td>\n",
       "      <td>0.277276</td>\n",
       "      <td>1.687869</td>\n",
       "      <td>1.828024</td>\n",
       "      <td>6.687006</td>\n",
       "      <td>0.194949</td>\n",
       "      <td>-5.541298</td>\n",
       "      <td>-6.936907</td>\n",
       "      <td>1.214309</td>\n",
       "      <td>10.824985</td>\n",
       "    </tr>\n",
       "    <tr>\n",
       "      <td>3</td>\n",
       "      <td>285605</td>\n",
       "      <td>406045</td>\n",
       "      <td>406046</td>\n",
       "      <td>is a square also a rhombus  if not  why</td>\n",
       "      <td>can a rectangle also be a rhombus</td>\n",
       "      <td>1</td>\n",
       "      <td>1</td>\n",
       "      <td>40</td>\n",
       "      <td>34</td>\n",
       "      <td>12</td>\n",
       "      <td>...</td>\n",
       "      <td>5.901763</td>\n",
       "      <td>11.392240</td>\n",
       "      <td>-9.735606</td>\n",
       "      <td>-9.001246</td>\n",
       "      <td>1.560969</td>\n",
       "      <td>-2.537093</td>\n",
       "      <td>-11.022644</td>\n",
       "      <td>1.669967</td>\n",
       "      <td>15.322397</td>\n",
       "      <td>13.807467</td>\n",
       "    </tr>\n",
       "    <tr>\n",
       "      <td>4</td>\n",
       "      <td>67164</td>\n",
       "      <td>116284</td>\n",
       "      <td>116285</td>\n",
       "      <td>are humans suppose to have as much sex  everyd...</td>\n",
       "      <td>science of everyday life  what are the greates...</td>\n",
       "      <td>1</td>\n",
       "      <td>1</td>\n",
       "      <td>119</td>\n",
       "      <td>72</td>\n",
       "      <td>26</td>\n",
       "      <td>...</td>\n",
       "      <td>-17.865235</td>\n",
       "      <td>3.007038</td>\n",
       "      <td>-2.782918</td>\n",
       "      <td>-12.177808</td>\n",
       "      <td>0.242313</td>\n",
       "      <td>8.978230</td>\n",
       "      <td>2.287433</td>\n",
       "      <td>-4.196572</td>\n",
       "      <td>-6.972139</td>\n",
       "      <td>-2.101596</td>\n",
       "    </tr>\n",
       "  </tbody>\n",
       "</table>\n",
       "<p>5 rows × 632 columns</p>\n",
       "</div>"
      ],
      "text/plain": [
       "       id    qid1    qid2                                          question1  \\\n",
       "0  204827  307828  307829  how does distilled water differ from spring wa...   \n",
       "1   35012   64051   64052     how do i quit watching porn and focus in life    \n",
       "2  400122  313281  533461          why do you use twitter  but not facebook    \n",
       "3  285605  406045  406046           is a square also a rhombus  if not  why    \n",
       "4   67164  116284  116285  are humans suppose to have as much sex  everyd...   \n",
       "\n",
       "                                           question2  freq_qid1  freq_qid2  \\\n",
       "0   why is distilled water better than spring water           1          2   \n",
       "1                    why did you quit watching porn           1          1   \n",
       "2                        why do you not use twitter           1          1   \n",
       "3                 can a rectangle also be a rhombus           1          1   \n",
       "4  science of everyday life  what are the greates...          1          1   \n",
       "\n",
       "   q1Len  q2Len  q1_n_words  ...      290_y      291_y     292_y      293_y  \\\n",
       "0     50     48           9  ...  -8.180585  -7.685680  3.621565 -13.419825   \n",
       "1     46     31          11  ...   6.130694  -1.629369 -8.314602  -3.119525   \n",
       "2     41     27          10  ...  -5.504728   0.277276  1.687869   1.828024   \n",
       "3     40     34          12  ...   5.901763  11.392240 -9.735606  -9.001246   \n",
       "4    119     72          26  ... -17.865235   3.007038 -2.782918 -12.177808   \n",
       "\n",
       "      294_y     295_y      296_y      297_y      298_y      299_y  \n",
       "0 -2.762812 -3.844124 -14.450468 -15.873128   0.851618  -3.716519  \n",
       "1  5.991219  3.410337  -2.202939   0.728919   0.274184   2.286874  \n",
       "2  6.687006  0.194949  -5.541298  -6.936907   1.214309  10.824985  \n",
       "3  1.560969 -2.537093 -11.022644   1.669967  15.322397  13.807467  \n",
       "4  0.242313  8.978230   2.287433  -4.196572  -6.972139  -2.101596  \n",
       "\n",
       "[5 rows x 632 columns]"
      ]
     },
     "execution_count": 19,
     "metadata": {},
     "output_type": "execute_result"
    }
   ],
   "source": [
    "df = df_q1.merge(df_q2, on='id', how='left')\n",
    "df_cv = cv.merge(df, on='id', how='left')\n",
    "df_cv.head()"
   ]
  },
  {
   "cell_type": "code",
   "execution_count": 20,
   "metadata": {},
   "outputs": [],
   "source": [
    "#saving features in excel\n",
    "df_cv.to_csv('final_features_avg_w2v_cv.csv')"
   ]
  },
  {
   "cell_type": "markdown",
   "metadata": {},
   "source": [
    "### merging test data"
   ]
  },
  {
   "cell_type": "code",
   "execution_count": 21,
   "metadata": {},
   "outputs": [],
   "source": [
    "df_q1 = pd.DataFrame(test.q1_feats_m.values.tolist(), index=test.index)\n",
    "df_q2 = pd.DataFrame(test.q2_feats_m.values.tolist(), index=test.index)\n",
    "test = test.drop(['q1_feats_m', 'q2_feats_m'], axis=1)"
   ]
  },
  {
   "cell_type": "code",
   "execution_count": 22,
   "metadata": {},
   "outputs": [],
   "source": [
    "df_q1['id'] = test['id']\n",
    "df_q2['id'] = test['id']"
   ]
  },
  {
   "cell_type": "code",
   "execution_count": 23,
   "metadata": {},
   "outputs": [
    {
     "data": {
      "text/html": [
       "<div>\n",
       "<style scoped>\n",
       "    .dataframe tbody tr th:only-of-type {\n",
       "        vertical-align: middle;\n",
       "    }\n",
       "\n",
       "    .dataframe tbody tr th {\n",
       "        vertical-align: top;\n",
       "    }\n",
       "\n",
       "    .dataframe thead th {\n",
       "        text-align: right;\n",
       "    }\n",
       "</style>\n",
       "<table border=\"1\" class=\"dataframe\">\n",
       "  <thead>\n",
       "    <tr style=\"text-align: right;\">\n",
       "      <th></th>\n",
       "      <th>id</th>\n",
       "      <th>qid1</th>\n",
       "      <th>qid2</th>\n",
       "      <th>question1</th>\n",
       "      <th>question2</th>\n",
       "      <th>freq_qid1</th>\n",
       "      <th>freq_qid2</th>\n",
       "      <th>q1Len</th>\n",
       "      <th>q2Len</th>\n",
       "      <th>q1_n_words</th>\n",
       "      <th>...</th>\n",
       "      <th>290_y</th>\n",
       "      <th>291_y</th>\n",
       "      <th>292_y</th>\n",
       "      <th>293_y</th>\n",
       "      <th>294_y</th>\n",
       "      <th>295_y</th>\n",
       "      <th>296_y</th>\n",
       "      <th>297_y</th>\n",
       "      <th>298_y</th>\n",
       "      <th>299_y</th>\n",
       "    </tr>\n",
       "  </thead>\n",
       "  <tbody>\n",
       "    <tr>\n",
       "      <td>0</td>\n",
       "      <td>237030</td>\n",
       "      <td>33086</td>\n",
       "      <td>348102</td>\n",
       "      <td>how can i stop playing video games</td>\n",
       "      <td>should i stop playing video games with my child</td>\n",
       "      <td>1</td>\n",
       "      <td>1</td>\n",
       "      <td>35</td>\n",
       "      <td>48</td>\n",
       "      <td>8</td>\n",
       "      <td>...</td>\n",
       "      <td>-8.693587</td>\n",
       "      <td>-1.245995</td>\n",
       "      <td>-11.200996</td>\n",
       "      <td>5.140328</td>\n",
       "      <td>15.107444</td>\n",
       "      <td>9.483084</td>\n",
       "      <td>-2.574097</td>\n",
       "      <td>-5.503761</td>\n",
       "      <td>2.910798</td>\n",
       "      <td>8.713992</td>\n",
       "    </tr>\n",
       "    <tr>\n",
       "      <td>1</td>\n",
       "      <td>247341</td>\n",
       "      <td>73272</td>\n",
       "      <td>8624</td>\n",
       "      <td>who is better donald trump or hillary clinton</td>\n",
       "      <td>why is hillary clinton a better choice than do...</td>\n",
       "      <td>8</td>\n",
       "      <td>3</td>\n",
       "      <td>46</td>\n",
       "      <td>57</td>\n",
       "      <td>9</td>\n",
       "      <td>...</td>\n",
       "      <td>1.782307</td>\n",
       "      <td>8.825999</td>\n",
       "      <td>-13.432579</td>\n",
       "      <td>-4.531607</td>\n",
       "      <td>11.209176</td>\n",
       "      <td>-0.258310</td>\n",
       "      <td>-1.394302</td>\n",
       "      <td>-13.921498</td>\n",
       "      <td>-0.467377</td>\n",
       "      <td>3.786713</td>\n",
       "    </tr>\n",
       "    <tr>\n",
       "      <td>2</td>\n",
       "      <td>246425</td>\n",
       "      <td>359482</td>\n",
       "      <td>359483</td>\n",
       "      <td>what do you think is the chance that sometime ...</td>\n",
       "      <td>do you think there will be another world war n...</td>\n",
       "      <td>1</td>\n",
       "      <td>1</td>\n",
       "      <td>139</td>\n",
       "      <td>77</td>\n",
       "      <td>31</td>\n",
       "      <td>...</td>\n",
       "      <td>-22.330916</td>\n",
       "      <td>8.570810</td>\n",
       "      <td>-13.660988</td>\n",
       "      <td>0.155858</td>\n",
       "      <td>0.659431</td>\n",
       "      <td>12.150103</td>\n",
       "      <td>-13.746003</td>\n",
       "      <td>10.659862</td>\n",
       "      <td>-1.799110</td>\n",
       "      <td>14.517045</td>\n",
       "    </tr>\n",
       "    <tr>\n",
       "      <td>3</td>\n",
       "      <td>306985</td>\n",
       "      <td>1357</td>\n",
       "      <td>47020</td>\n",
       "      <td>why are so many questions posted to quora that...</td>\n",
       "      <td>why do people write questions on quora that co...</td>\n",
       "      <td>6</td>\n",
       "      <td>7</td>\n",
       "      <td>86</td>\n",
       "      <td>86</td>\n",
       "      <td>17</td>\n",
       "      <td>...</td>\n",
       "      <td>-16.908830</td>\n",
       "      <td>-3.946437</td>\n",
       "      <td>-0.007691</td>\n",
       "      <td>2.162127</td>\n",
       "      <td>19.265175</td>\n",
       "      <td>-11.164900</td>\n",
       "      <td>-6.002581</td>\n",
       "      <td>-8.888336</td>\n",
       "      <td>11.608599</td>\n",
       "      <td>22.519480</td>\n",
       "    </tr>\n",
       "    <tr>\n",
       "      <td>4</td>\n",
       "      <td>225863</td>\n",
       "      <td>334315</td>\n",
       "      <td>334316</td>\n",
       "      <td>can there even be a movie ever rated 10 10 on ...</td>\n",
       "      <td>what are your 10 10 movies</td>\n",
       "      <td>1</td>\n",
       "      <td>1</td>\n",
       "      <td>51</td>\n",
       "      <td>27</td>\n",
       "      <td>13</td>\n",
       "      <td>...</td>\n",
       "      <td>-4.727139</td>\n",
       "      <td>2.578511</td>\n",
       "      <td>-2.767348</td>\n",
       "      <td>1.340994</td>\n",
       "      <td>-0.614293</td>\n",
       "      <td>-2.142189</td>\n",
       "      <td>-1.558200</td>\n",
       "      <td>-6.277861</td>\n",
       "      <td>3.927348</td>\n",
       "      <td>0.964829</td>\n",
       "    </tr>\n",
       "  </tbody>\n",
       "</table>\n",
       "<p>5 rows × 632 columns</p>\n",
       "</div>"
      ],
      "text/plain": [
       "       id    qid1    qid2                                          question1  \\\n",
       "0  237030   33086  348102                how can i stop playing video games    \n",
       "1  247341   73272    8624     who is better donald trump or hillary clinton    \n",
       "2  246425  359482  359483  what do you think is the chance that sometime ...   \n",
       "3  306985    1357   47020  why are so many questions posted to quora that...   \n",
       "4  225863  334315  334316  can there even be a movie ever rated 10 10 on ...   \n",
       "\n",
       "                                           question2  freq_qid1  freq_qid2  \\\n",
       "0   should i stop playing video games with my child           1          1   \n",
       "1  why is hillary clinton a better choice than do...          8          3   \n",
       "2  do you think there will be another world war n...          1          1   \n",
       "3  why do people write questions on quora that co...          6          7   \n",
       "4                        what are your 10 10 movies           1          1   \n",
       "\n",
       "   q1Len  q2Len  q1_n_words  ...      290_y     291_y      292_y     293_y  \\\n",
       "0     35     48           8  ...  -8.693587 -1.245995 -11.200996  5.140328   \n",
       "1     46     57           9  ...   1.782307  8.825999 -13.432579 -4.531607   \n",
       "2    139     77          31  ... -22.330916  8.570810 -13.660988  0.155858   \n",
       "3     86     86          17  ... -16.908830 -3.946437  -0.007691  2.162127   \n",
       "4     51     27          13  ...  -4.727139  2.578511  -2.767348  1.340994   \n",
       "\n",
       "       294_y      295_y      296_y      297_y      298_y      299_y  \n",
       "0  15.107444   9.483084  -2.574097  -5.503761   2.910798   8.713992  \n",
       "1  11.209176  -0.258310  -1.394302 -13.921498  -0.467377   3.786713  \n",
       "2   0.659431  12.150103 -13.746003  10.659862  -1.799110  14.517045  \n",
       "3  19.265175 -11.164900  -6.002581  -8.888336  11.608599  22.519480  \n",
       "4  -0.614293  -2.142189  -1.558200  -6.277861   3.927348   0.964829  \n",
       "\n",
       "[5 rows x 632 columns]"
      ]
     },
     "execution_count": 23,
     "metadata": {},
     "output_type": "execute_result"
    }
   ],
   "source": [
    "df = df_q1.merge(df_q2, on='id', how='left')\n",
    "df_test = test.merge(df, on='id', how='left')\n",
    "df_test.head()"
   ]
  },
  {
   "cell_type": "code",
   "execution_count": 24,
   "metadata": {},
   "outputs": [],
   "source": [
    "df_test.to_csv('final_features_avg_w2v_test.csv')"
   ]
  },
  {
   "cell_type": "markdown",
   "metadata": {},
   "source": [
    "# Modeling\n"
   ]
  },
  {
   "cell_type": "markdown",
   "metadata": {},
   "source": [
    "### Seperating input and output data"
   ]
  },
  {
   "cell_type": "code",
   "execution_count": 3,
   "metadata": {},
   "outputs": [],
   "source": [
    "train_y = df_train['is_duplicate'].values;\n",
    "train_X = df_train.loc[:, df_train.columns != 'is_duplicate']\n",
    "\n",
    "test_y = df_test['is_duplicate'].values;\n",
    "test_X = df_test.loc[:, df_test.columns != 'is_duplicate']\n",
    "\n",
    "cv_y = df_cv['is_duplicate']\n",
    "cv_X = df_cv.loc[:, df_cv.columns != 'is_duplicate']"
   ]
  },
  {
   "cell_type": "code",
   "execution_count": 4,
   "metadata": {},
   "outputs": [],
   "source": [
    "#dropping 'question1', 'id', 'question2', 'qid1', 'qid2' columns\n",
    "train_X = train_X.drop(['question1', 'id', 'question2', 'qid1', 'qid2'], axis=1)\n",
    "test_X = test_X.drop(['question1', 'id', 'question2',  'qid1', 'qid2'], axis=1)\n",
    "cv_X = cv_X.drop(['question1', 'id', 'question2',  'qid1', 'qid2'], axis=1)"
   ]
  },
  {
   "cell_type": "markdown",
   "metadata": {},
   "source": [
    "### Finding distribution of output data"
   ]
  },
  {
   "cell_type": "code",
   "execution_count": 37,
   "metadata": {},
   "outputs": [
    {
     "name": "stdout",
     "output_type": "stream",
     "text": [
      "Distribution in train data: class 0 => 0.6315382984523125, class 1 => 0.36846170154768754\n",
      "Distribution in test data: class 0 => 0.6296800151706283, class 1 => 0.3703199848293717\n",
      "Distribution in cv data: class 0 => 0.6306875066253637, class 1 => 0.36931249337463634\n"
     ]
    }
   ],
   "source": [
    "train_dist = Counter(train_y)\n",
    "train_counts = train_y.shape[0]\n",
    "print(f\"Distribution in train data: class 0 => {train_dist[0]/train_counts}, class 1 => {train_dist[1]/train_counts}\")\n",
    "\n",
    "test_dist = Counter(test_y)\n",
    "test_counts = test_y.shape[0]\n",
    "print(f\"Distribution in test data: class 0 => {test_dist[0]/test_counts}, class 1 => {test_dist[1]/test_counts}\")\n",
    "\n",
    "cv_dist = Counter(cv_y)\n",
    "cv_counts = cv_y.shape[0]\n",
    "print(f\"Distribution in cv data: class 0 => {cv_dist[0]/cv_counts}, class 1 => {cv_dist[1]/cv_counts}\")"
   ]
  },
  {
   "cell_type": "markdown",
   "metadata": {},
   "source": [
    "### defining function to plot confusion matrix, Precission matrix, Recall matrix"
   ]
  },
  {
   "cell_type": "code",
   "execution_count": 5,
   "metadata": {},
   "outputs": [],
   "source": [
    "# This function plots the confusion matrices given y_i, y_i_hat.\n",
    "def plot_confusion_matrix(test_y, predict_y):\n",
    "    C = confusion_matrix(test_y, predict_y)\n",
    "    # C = 9,9 matrix, each cell (i,j) represents number of points of class i are predicted class j\n",
    "    \n",
    "    #finding recall matrix\n",
    "    A =(((C.T)/(C.sum(axis=1))).T)\n",
    "    #divid each element of the confusion matrix with the sum of elements in that column\n",
    "    \n",
    "    # C = [[1, 2],\n",
    "    #     [3, 4]]\n",
    "    # C.T = [[1, 3],\n",
    "    #        [2, 4]]\n",
    "    # C.sum(axis = 1)  axis=0 corresonds to columns and axis=1 corresponds to rows in two diamensional array\n",
    "    # C.sum(axix =1) = [[3, 7]]\n",
    "    # ((C.T)/(C.sum(axis=1))) = [[1/3, 3/7]\n",
    "    #                           [2/3, 4/7]]\n",
    "\n",
    "    # ((C.T)/(C.sum(axis=1))).T = [[1/3, 2/3]\n",
    "    #                           [3/7, 4/7]]\n",
    "    # sum of row elements = 1\n",
    "    \n",
    "    #finding precision matrix\n",
    "    B =(C/C.sum(axis=0))\n",
    "    #divid each element of the confusion matrix with the sum of elements in that row\n",
    "    # C = [[1, 2],\n",
    "    #     [3, 4]]\n",
    "    # C.sum(axis = 0)  axis=0 corresonds to columns and axis=1 corresponds to rows in two diamensional array\n",
    "    # C.sum(axix =0) = [[4, 6]]\n",
    "    # (C/C.sum(axis=0)) = [[1/4, 2/6],\n",
    "    #                      [3/4, 4/6]] \n",
    "    plt.figure(figsize=(20,4))\n",
    "    \n",
    "    labels = [1,2]\n",
    "\n",
    "    # representing A in heatmap format\n",
    "    cmap=sns.light_palette(\"blue\")\n",
    "    plt.subplot(1, 3, 1)\n",
    "    ax = sns.heatmap(C, annot=True, cmap=cmap, fmt=\".3f\", xticklabels=labels, yticklabels=labels, annot_kws={\"fontsize\":15})\n",
    "    ax.set_ylim(2.0,0)\n",
    "    plt.xlabel('Predicted Class')\n",
    "    plt.ylabel('Original Class')\n",
    "    plt.title(\"Confusion matrix\")\n",
    "    \n",
    "    plt.subplot(1, 3, 2)\n",
    "    ax = sns.heatmap(B, annot=True, cmap=cmap, fmt=\".3f\", xticklabels=labels, yticklabels=labels, annot_kws={\"fontsize\":15})\n",
    "    ax.set_ylim(2.0, 0)\n",
    "    plt.xlabel('Predicted Class')\n",
    "    plt.ylabel('Original Class')\n",
    "    plt.title(\"Precision matrix\")\n",
    "    \n",
    "    plt.subplot(1, 3, 3)\n",
    "    # representing B in heatmap format\n",
    "    ax = sns.heatmap(A, annot=True, cmap=cmap, fmt=\".3f\", xticklabels=labels, yticklabels=labels, annot_kws={\"fontsize\":15})\n",
    "    ax.set_ylim(2.0, 0)\n",
    "    plt.xlabel('Predicted Class')\n",
    "    plt.ylabel('Original Class')\n",
    "    plt.title(\"Recall matrix\")\n",
    "    \n",
    "    plt.show()"
   ]
  },
  {
   "cell_type": "markdown",
   "metadata": {},
   "source": [
    "## Building Random Model  (Finding worst case log-loss)"
   ]
  },
  {
   "cell_type": "code",
   "execution_count": 44,
   "metadata": {},
   "outputs": [
    {
     "name": "stdout",
     "output_type": "stream",
     "text": [
      "Log loss on Test Data using Random Model: 0.8838083513668935\n"
     ]
    },
    {
     "data": {
      "image/png": "[encoded data removed]",
      "text/plain": [
       "<Figure size 1440x288 with 6 Axes>"
      ]
     },
     "metadata": {
      "needs_background": "light"
     },
     "output_type": "display_data"
    }
   ],
   "source": [
    "test_len = len(test_y)\n",
    "predicted_y = np.zeros((test_len,2))\n",
    "for i in range(test_len):\n",
    "    rand_probs = np.random.rand(1,2)\n",
    "    predicted_y[i] = ((rand_probs/sum(sum(rand_probs)))[0])\n",
    "\n",
    "log_loss_random = log_loss(test_y, predicted_y, eps=1e-15)\n",
    "print(f\"Log loss on Test Data using Random Model: {log_loss_random}\")\n",
    "\n",
    "predicted_y = np.argmax(predicted_y, axis=1)\n",
    "plot_confusion_matrix(test_y, predicted_y)"
   ]
  },
  {
   "cell_type": "markdown",
   "metadata": {},
   "source": [
    "## Logistic Regression"
   ]
  },
  {
   "cell_type": "code",
   "execution_count": 52,
   "metadata": {},
   "outputs": [
    {
     "name": "stdout",
     "output_type": "stream",
     "text": [
      "For values of alpha =  1e-05 The log loss is: 0.6585903042776905\n",
      "For values of alpha =  0.0001 The log loss is: 0.6585903042776905\n",
      "For values of alpha =  0.001 The log loss is: 0.6585903042776905\n",
      "For values of alpha =  0.01 The log loss is: 0.6585903042776905\n",
      "For values of alpha =  0.1 The log loss is: 0.6542819608457713\n",
      "For values of alpha =  1 The log loss is: 0.5982230338972042\n",
      "For values of alpha =  10 The log loss is: 0.5471642965615882\n"
     ]
    }
   ],
   "source": [
    "alphas = [10 ** x for x in range(-5, 2)] \n",
    "\n",
    "log_error_array = []\n",
    "\n",
    "for alpha in alphas:\n",
    "    #SGDClassifier with log loss => logistic Regression\n",
    "    clf = SGDClassifier(alpha=alpha, penalty='l2', loss='log', random_state=43)\n",
    "    clf.fit(train_X, train_y)\n",
    "    \n",
    "    #finding calibrated probability\n",
    "    sig_clf = CalibratedClassifierCV(clf, method='sigmoid')\n",
    "    sig_clf.fit(train_X, train_y)\n",
    "    \n",
    "    predict_y = sig_clf.predict_proba(cv_X)\n",
    "    loss = log_loss(cv_y, predict_y, labels=clf.classes_, eps=1e-15)\n",
    "    log_error_array.append(loss)\n",
    "    print('For values of alpha = ', alpha, \"The log loss is:\",loss)\n"
   ]
  },
  {
   "cell_type": "code",
   "execution_count": 53,
   "metadata": {},
   "outputs": [
    {
     "data": {
      "image/png": "[encoded data removed]",
      "text/plain": [
       "<Figure size 432x288 with 1 Axes>"
      ]
     },
     "metadata": {
      "needs_background": "light"
     },
     "output_type": "display_data"
    }
   ],
   "source": [
    "\n",
    "fig, ax = plt.subplots()\n",
    "ax.plot(np.log(alphas), log_error_array,c='g')\n",
    "for i, txt in enumerate(np.round(log_error_array,3)):\n",
    "    ax.annotate((alphas[i],np.round(txt,3)), (alphas[i],log_error_array[i]))\n",
    "plt.grid()\n",
    "plt.title(\"Cross Validation Error for each alpha\")\n",
    "plt.xlabel(\"Alpha i's\")\n",
    "plt.ylabel(\"Error measure\")\n",
    "plt.show()\n"
   ]
  },
  {
   "cell_type": "markdown",
   "metadata": {},
   "source": [
    "### training Logistic Regression with best alpha"
   ]
  },
  {
   "cell_type": "code",
   "execution_count": 54,
   "metadata": {},
   "outputs": [
    {
     "data": {
      "text/plain": [
       "CalibratedClassifierCV(base_estimator=SGDClassifier(alpha=10, average=False,\n",
       "                                                    class_weight=None,\n",
       "                                                    early_stopping=False,\n",
       "                                                    epsilon=0.1, eta0=0.0,\n",
       "                                                    fit_intercept=True,\n",
       "                                                    l1_ratio=0.15,\n",
       "                                                    learning_rate='optimal',\n",
       "                                                    loss='log', max_iter=1000,\n",
       "                                                    n_iter_no_change=5,\n",
       "                                                    n_jobs=None, penalty='l2',\n",
       "                                                    power_t=0.5,\n",
       "                                                    random_state=42,\n",
       "                                                    shuffle=True, tol=0.001,\n",
       "                                                    validation_fraction=0.1,\n",
       "                                                    verbose=0,\n",
       "                                                    warm_start=False),\n",
       "                       cv='warn', method='sigmoid')"
      ]
     },
     "execution_count": 54,
     "metadata": {},
     "output_type": "execute_result"
    }
   ],
   "source": [
    "best_alpha = alphas[np.argmin(log_error_array)]\n",
    "\n",
    "clf = SGDClassifier(alpha=best_alpha, penalty='l2', loss='log', random_state=42)\n",
    "clf.fit(train_X, train_y)\n",
    "sig_clf = CalibratedClassifierCV(clf, method=\"sigmoid\")\n",
    "sig_clf.fit(train_X, train_y)\n"
   ]
  },
  {
   "cell_type": "code",
   "execution_count": 56,
   "metadata": {},
   "outputs": [
    {
     "name": "stdout",
     "output_type": "stream",
     "text": [
      "For values of best alpha =  10 The train log loss is: 0.5464636857321303\n",
      "For values of best alpha =  10 The test log loss is: 0.5539907537916293\n",
      "Total number of data points : 121287\n"
     ]
    },
    {
     "data": {
      "image/png": "[encoded data removed]",
      "text/plain": [
       "<Figure size 1440x288 with 6 Axes>"
      ]
     },
     "metadata": {
      "needs_background": "light"
     },
     "output_type": "display_data"
    }
   ],
   "source": [
    "predict_y = sig_clf.predict_proba(train_X)\n",
    "print('For values of best alpha = ', best_alpha, \"The train log loss is:\",log_loss(train_y, predict_y, labels=clf.classes_, eps=1e-15))\n",
    "predict_y = sig_clf.predict_proba(test_X)\n",
    "print('For values of best alpha = ', best_alpha, \"The test log loss is:\",log_loss(test_y, predict_y, labels=clf.classes_, eps=1e-15))\n",
    "predicted_y =np.argmax(predict_y,axis=1)\n",
    "print(\"Total number of data points :\", len(predicted_y))\n",
    "plot_confusion_matrix(test_y, predicted_y)"
   ]
  },
  {
   "cell_type": "markdown",
   "metadata": {},
   "source": [
    "## SVM"
   ]
  },
  {
   "cell_type": "code",
   "execution_count": 59,
   "metadata": {},
   "outputs": [
    {
     "name": "stdout",
     "output_type": "stream",
     "text": [
      "For values of alpha =  1e-05 The log loss is: 0.6585903042776905\n",
      "For values of alpha =  0.0001 The log loss is: 0.6585903042776905\n",
      "For values of alpha =  0.001 The log loss is: 0.6585903042776905\n",
      "For values of alpha =  0.01 The log loss is: 0.5859935211713677\n",
      "For values of alpha =  0.1 The log loss is: 0.5866039486110931\n",
      "For values of alpha =  1 The log loss is: 0.6541725242766979\n",
      "For values of alpha =  10 The log loss is: 0.6524150300847363\n"
     ]
    }
   ],
   "source": [
    "alphas = [10 ** x for x in range(-5, 2)]\n",
    "log_error_array=[]\n",
    "for alpha in alphas:\n",
    "    clf = SGDClassifier(alpha=alpha, penalty='l1', loss='hinge', random_state=42)\n",
    "    clf.fit(train_X, train_y)\n",
    "    \n",
    "    sig_clf = CalibratedClassifierCV(clf, method=\"sigmoid\")\n",
    "    sig_clf.fit(train_X, train_y)\n",
    "    predict_y = sig_clf.predict_proba(cv_X)\n",
    "    \n",
    "    log_error_array.append(log_loss(cv_y, predict_y, labels=clf.classes_, eps=1e-15))\n",
    "    \n",
    "    print('For values of alpha = ', alpha, \"The log loss is:\",log_loss(cv_y, predict_y, labels=clf.classes_, eps=1e-15))\n"
   ]
  },
  {
   "cell_type": "code",
   "execution_count": 60,
   "metadata": {},
   "outputs": [
    {
     "data": {
      "image/png": "[encoded data removed]",
      "text/plain": [
       "<Figure size 432x288 with 1 Axes>"
      ]
     },
     "metadata": {
      "needs_background": "light"
     },
     "output_type": "display_data"
    }
   ],
   "source": [
    "\n",
    "fig, ax = plt.subplots()\n",
    "ax.plot(np.log(alphas), log_error_array,c='g')\n",
    "for i, txt in enumerate(np.round(log_error_array,3)):\n",
    "    ax.annotate((alphas[i],np.round(txt,3)), (alphas[i],log_error_array[i]))\n",
    "plt.grid()\n",
    "plt.title(\"Cross Validation Error for each alpha\")\n",
    "plt.xlabel(\"Alpha i's\")\n",
    "plt.ylabel(\"Error measure\")\n",
    "plt.show()\n"
   ]
  },
  {
   "cell_type": "markdown",
   "metadata": {},
   "source": [
    "### training SVM with best alpha"
   ]
  },
  {
   "cell_type": "code",
   "execution_count": 65,
   "metadata": {},
   "outputs": [
    {
     "data": {
      "text/plain": [
       "CalibratedClassifierCV(base_estimator=SGDClassifier(alpha=0.01, average=False,\n",
       "                                                    class_weight=None,\n",
       "                                                    early_stopping=False,\n",
       "                                                    epsilon=0.1, eta0=0.0,\n",
       "                                                    fit_intercept=True,\n",
       "                                                    l1_ratio=0.15,\n",
       "                                                    learning_rate='optimal',\n",
       "                                                    loss='hinge', max_iter=1000,\n",
       "                                                    n_iter_no_change=5,\n",
       "                                                    n_jobs=None, penalty='l1',\n",
       "                                                    power_t=0.5,\n",
       "                                                    random_state=42,\n",
       "                                                    shuffle=True, tol=0.001,\n",
       "                                                    validation_fraction=0.1,\n",
       "                                                    verbose=0,\n",
       "                                                    warm_start=False),\n",
       "                       cv='warn', method='sigmoid')"
      ]
     },
     "execution_count": 65,
     "metadata": {},
     "output_type": "execute_result"
    }
   ],
   "source": [
    "best_alpha = alphas[np.argmin(log_error_array)]\n",
    "\n",
    "clf = SGDClassifier(alpha=best_alpha, penalty='l1', loss='hinge', random_state=42)\n",
    "clf.fit(train_X, train_y)\n",
    "sig_clf = CalibratedClassifierCV(clf, method=\"sigmoid\")\n",
    "sig_clf.fit(train_X, train_y)\n"
   ]
  },
  {
   "cell_type": "code",
   "execution_count": 66,
   "metadata": {},
   "outputs": [
    {
     "name": "stdout",
     "output_type": "stream",
     "text": [
      "For values of best alpha =  0.01 The train log loss is: 0.5671898176355835\n",
      "For values of best alpha =  0.01 The test log loss is: 0.582691692534217\n",
      "Total number of data points : 121287\n"
     ]
    },
    {
     "data": {
      "image/png": "[encoded data removed]",
      "text/plain": [
       "<Figure size 1440x288 with 6 Axes>"
      ]
     },
     "metadata": {
      "needs_background": "light"
     },
     "output_type": "display_data"
    }
   ],
   "source": [
    "predict_y = sig_clf.predict_proba(train_X)\n",
    "print('For values of best alpha = ', best_alpha, \"The train log loss is:\",log_loss(train_y, predict_y, labels=clf.classes_, eps=1e-15))\n",
    "predict_y = sig_clf.predict_proba(test_X)\n",
    "print('For values of best alpha = ', best_alpha, \"The test log loss is:\",log_loss(test_y, predict_y, labels=clf.classes_, eps=1e-15))\n",
    "predicted_y =np.argmax(predict_y,axis=1)\n",
    "print(\"Total number of data points :\", len(predicted_y))\n",
    "plot_confusion_matrix(test_y, predicted_y)"
   ]
  },
  {
   "cell_type": "markdown",
   "metadata": {},
   "source": [
    "## XGBoost"
   ]
  },
  {
   "cell_type": "code",
   "execution_count": 6,
   "metadata": {},
   "outputs": [
    {
     "name": "stdout",
     "output_type": "stream",
     "text": [
      "Fitting 5 folds for each of 5 candidates, totalling 25 fits\n"
     ]
    },
    {
     "name": "stderr",
     "output_type": "stream",
     "text": [
      "[Parallel(n_jobs=1)]: Using backend SequentialBackend with 1 concurrent workers.\n"
     ]
    },
    {
     "name": "stdout",
     "output_type": "stream",
     "text": [
      "[CV] n_estimators=300, min_child_weight=1, max_depth=5 ...............\n",
      "[CV]  n_estimators=300, min_child_weight=1, max_depth=5, score=-0.375, total=55.4min\n"
     ]
    },
    {
     "name": "stderr",
     "output_type": "stream",
     "text": [
      "[Parallel(n_jobs=1)]: Done   1 out of   1 | elapsed: 55.4min remaining:    0.0s\n"
     ]
    },
    {
     "name": "stdout",
     "output_type": "stream",
     "text": [
      "[CV] n_estimators=300, min_child_weight=1, max_depth=5 ...............\n",
      "[CV]  n_estimators=300, min_child_weight=1, max_depth=5, score=-0.380, total=50.6min\n"
     ]
    },
    {
     "name": "stderr",
     "output_type": "stream",
     "text": [
      "[Parallel(n_jobs=1)]: Done   2 out of   2 | elapsed: 105.9min remaining:    0.0s\n"
     ]
    },
    {
     "name": "stdout",
     "output_type": "stream",
     "text": [
      "[CV] n_estimators=300, min_child_weight=1, max_depth=5 ...............\n",
      "[CV]  n_estimators=300, min_child_weight=1, max_depth=5, score=-0.377, total=50.4min\n",
      "[CV] n_estimators=300, min_child_weight=1, max_depth=5 ...............\n",
      "[CV]  n_estimators=300, min_child_weight=1, max_depth=5, score=-0.379, total=50.4min\n",
      "[CV] n_estimators=300, min_child_weight=1, max_depth=5 ...............\n",
      "[CV]  n_estimators=300, min_child_weight=1, max_depth=5, score=-0.382, total=50.4min\n",
      "[CV] n_estimators=500, min_child_weight=1, max_depth=4 ...............\n",
      "[CV]  n_estimators=500, min_child_weight=1, max_depth=4, score=-0.372, total=66.8min\n",
      "[CV] n_estimators=500, min_child_weight=1, max_depth=4 ...............\n",
      "[CV]  n_estimators=500, min_child_weight=1, max_depth=4, score=-0.377, total=67.1min\n",
      "[CV] n_estimators=500, min_child_weight=1, max_depth=4 ...............\n",
      "[CV]  n_estimators=500, min_child_weight=1, max_depth=4, score=-0.373, total=68.7min\n",
      "[CV] n_estimators=500, min_child_weight=1, max_depth=4 ...............\n",
      "[CV]  n_estimators=500, min_child_weight=1, max_depth=4, score=-0.375, total=67.8min\n",
      "[CV] n_estimators=500, min_child_weight=1, max_depth=4 ...............\n",
      "[CV]  n_estimators=500, min_child_weight=1, max_depth=4, score=-0.379, total=67.3min\n",
      "[CV] n_estimators=100, min_child_weight=10, max_depth=4 ..............\n",
      "[CV]  n_estimators=100, min_child_weight=10, max_depth=4, score=-0.434, total=13.3min\n",
      "[CV] n_estimators=100, min_child_weight=10, max_depth=4 ..............\n",
      "[CV]  n_estimators=100, min_child_weight=10, max_depth=4, score=-0.436, total=13.5min\n",
      "[CV] n_estimators=100, min_child_weight=10, max_depth=4 ..............\n",
      "[CV]  n_estimators=100, min_child_weight=10, max_depth=4, score=-0.435, total=13.4min\n",
      "[CV] n_estimators=100, min_child_weight=10, max_depth=4 ..............\n",
      "[CV]  n_estimators=100, min_child_weight=10, max_depth=4, score=-0.436, total=13.2min\n",
      "[CV] n_estimators=100, min_child_weight=10, max_depth=4 ..............\n",
      "[CV]  n_estimators=100, min_child_weight=10, max_depth=4, score=-0.438, total=13.3min\n",
      "[CV] n_estimators=300, min_child_weight=1, max_depth=4 ...............\n",
      "[CV]  n_estimators=300, min_child_weight=1, max_depth=4, score=-0.386, total=40.2min\n",
      "[CV] n_estimators=300, min_child_weight=1, max_depth=4 ...............\n",
      "[CV]  n_estimators=300, min_child_weight=1, max_depth=4, score=-0.390, total=40.0min\n",
      "[CV] n_estimators=300, min_child_weight=1, max_depth=4 ...............\n",
      "[CV]  n_estimators=300, min_child_weight=1, max_depth=4, score=-0.387, total=40.1min\n",
      "[CV] n_estimators=300, min_child_weight=1, max_depth=4 ...............\n",
      "[CV]  n_estimators=300, min_child_weight=1, max_depth=4, score=-0.388, total=40.0min\n",
      "[CV] n_estimators=300, min_child_weight=1, max_depth=4 ...............\n",
      "[CV]  n_estimators=300, min_child_weight=1, max_depth=4, score=-0.392, total=39.9min\n",
      "[CV] n_estimators=300, min_child_weight=10, max_depth=5 ..............\n",
      "[CV]  n_estimators=300, min_child_weight=10, max_depth=5, score=-0.375, total=50.1min\n",
      "[CV] n_estimators=300, min_child_weight=10, max_depth=5 ..............\n",
      "[CV]  n_estimators=300, min_child_weight=10, max_depth=5, score=-0.380, total=50.2min\n",
      "[CV] n_estimators=300, min_child_weight=10, max_depth=5 ..............\n",
      "[CV]  n_estimators=300, min_child_weight=10, max_depth=5, score=-0.377, total=51.6min\n",
      "[CV] n_estimators=300, min_child_weight=10, max_depth=5 ..............\n",
      "[CV]  n_estimators=300, min_child_weight=10, max_depth=5, score=-0.379, total=57.4min\n",
      "[CV] n_estimators=300, min_child_weight=10, max_depth=5 ..............\n",
      "[CV]  n_estimators=300, min_child_weight=10, max_depth=5, score=-0.382, total=51.7min\n"
     ]
    },
    {
     "name": "stderr",
     "output_type": "stream",
     "text": [
      "[Parallel(n_jobs=1)]: Done  25 out of  25 | elapsed: 1123.5min finished\n"
     ]
    },
    {
     "data": {
      "text/plain": [
       "RandomizedSearchCV(cv=<generator object _BaseKFold.split at 0x00000225BACFDEB8>,\n",
       "                   error_score='raise-deprecating',\n",
       "                   estimator=XGBClassifier(base_score=0.5, booster='gbtree',\n",
       "                                           colsample_bylevel=1,\n",
       "                                           colsample_bynode=1,\n",
       "                                           colsample_bytree=1, gamma=0,\n",
       "                                           learning_rate=0.02, max_delta_step=0,\n",
       "                                           max_depth=3, min_child_weight=1,\n",
       "                                           missing=None, n_estimators=600,\n",
       "                                           n_jobs=1, nthread=1,\n",
       "                                           obje...',\n",
       "                                           random_state=0, reg_alpha=0,\n",
       "                                           reg_lambda=1, scale_pos_weight=1,\n",
       "                                           seed=None, silent=True, subsample=1,\n",
       "                                           verbosity=1),\n",
       "                   iid='warn', n_iter=5, n_jobs=None,\n",
       "                   param_distributions={'max_depth': [3, 4, 5],\n",
       "                                        'min_child_weight': [1, 5, 10],\n",
       "                                        'n_estimators': [100, 300, 500]},\n",
       "                   pre_dispatch='2*n_jobs', random_state=1001, refit=True,\n",
       "                   return_train_score=False, scoring='neg_log_loss', verbose=3)"
      ]
     },
     "execution_count": 6,
     "metadata": {},
     "output_type": "execute_result"
    }
   ],
   "source": [
    "# A parameter grid for XGBoost\n",
    "params = {\n",
    "        'min_child_weight': [1, 5, 10],\n",
    "        'n_estimators': [100, 300, 500],\n",
    "        'max_depth': [3, 4, 5]\n",
    "        }\n",
    "\n",
    "skf = StratifiedKFold(n_splits=5, shuffle = True, random_state = 1001)\n",
    "\n",
    "clf = xgb.XGBClassifier(\n",
    "    learning_rate=0.02, \n",
    "    n_estimators=600, \n",
    "    objective='binary:logistic',\n",
    "    silent=True, \n",
    "    nthread=1\n",
    ")\n",
    "\n",
    "random_search = RandomizedSearchCV(\n",
    "    clf, \n",
    "    param_distributions=params, \n",
    "    n_iter=5, \n",
    "    scoring='neg_log_loss', \n",
    "    cv=skf.split(train_X,train_y), \n",
    "    verbose=3, \n",
    "    random_state=1001 \n",
    ")\n",
    "\n",
    "random_search.fit(train_X, train_y)"
   ]
  },
  {
   "cell_type": "code",
   "execution_count": 7,
   "metadata": {},
   "outputs": [
    {
     "data": {
      "text/plain": [
       "XGBClassifier(base_score=0.5, booster='gbtree', colsample_bylevel=1,\n",
       "              colsample_bynode=1, colsample_bytree=1, gamma=0,\n",
       "              learning_rate=0.02, max_delta_step=0, max_depth=4,\n",
       "              min_child_weight=1, missing=None, n_estimators=500, n_jobs=1,\n",
       "              nthread=1, objective='binary:logistic', random_state=0,\n",
       "              reg_alpha=0, reg_lambda=1, scale_pos_weight=1, seed=None,\n",
       "              silent=True, subsample=1, verbosity=1)"
      ]
     },
     "execution_count": 7,
     "metadata": {},
     "output_type": "execute_result"
    }
   ],
   "source": [
    "random_search.best_estimator_"
   ]
  },
  {
   "cell_type": "code",
   "execution_count": 8,
   "metadata": {},
   "outputs": [
    {
     "data": {
      "text/plain": [
       "XGBClassifier(base_score=0.5, booster='gbtree', colsample_bylevel=1,\n",
       "              colsample_bynode=1, colsample_bytree=1, gamma=0,\n",
       "              learning_rate=0.02, max_delta_step=0, max_depth=4,\n",
       "              min_child_weight=1, missing=None, n_estimators=500, n_jobs=1,\n",
       "              nthread=1, objective='binary:logistic', random_state=0,\n",
       "              reg_alpha=0, reg_lambda=1, scale_pos_weight=1, seed=None,\n",
       "              silent=True, subsample=1, verbosity=1)"
      ]
     },
     "execution_count": 8,
     "metadata": {},
     "output_type": "execute_result"
    }
   ],
   "source": [
    "xgb_clf = xgb.XGBClassifier(\n",
    "    learning_rate=0.02, \n",
    "    n_estimators=500, \n",
    "    max_depth=4,\n",
    "    min_child_weight=1,\n",
    "    objective='binary:logistic',\n",
    "    silent=True, \n",
    "    nthread=1,    \n",
    ")\n",
    "\n",
    "xgb_clf.fit(train_X, train_y)"
   ]
  },
  {
   "cell_type": "code",
   "execution_count": 9,
   "metadata": {},
   "outputs": [
    {
     "data": {
      "text/plain": [
       "CalibratedClassifierCV(base_estimator=XGBClassifier(base_score=0.5,\n",
       "                                                    booster='gbtree',\n",
       "                                                    colsample_bylevel=1,\n",
       "                                                    colsample_bynode=1,\n",
       "                                                    colsample_bytree=1, gamma=0,\n",
       "                                                    learning_rate=0.02,\n",
       "                                                    max_delta_step=0,\n",
       "                                                    max_depth=4,\n",
       "                                                    min_child_weight=1,\n",
       "                                                    missing=None,\n",
       "                                                    n_estimators=500, n_jobs=1,\n",
       "                                                    nthread=1,\n",
       "                                                    objective='binary:logistic',\n",
       "                                                    random_state=0, reg_alpha=0,\n",
       "                                                    reg_lambda=1,\n",
       "                                                    scale_pos_weight=1,\n",
       "                                                    seed=None, silent=True,\n",
       "                                                    subsample=1, verbosity=1),\n",
       "                       cv='warn', method='sigmoid')"
      ]
     },
     "execution_count": 9,
     "metadata": {},
     "output_type": "execute_result"
    }
   ],
   "source": [
    "sig_clf = CalibratedClassifierCV(xgb_clf, method=\"sigmoid\")\n",
    "sig_clf.fit(train_X, train_y)"
   ]
  },
  {
   "cell_type": "code",
   "execution_count": 10,
   "metadata": {},
   "outputs": [
    {
     "name": "stdout",
     "output_type": "stream",
     "text": [
      "The test log loss is: 0.40530914447517785\n"
     ]
    }
   ],
   "source": [
    "predict_y = sig_clf.predict_proba(test_X)\n",
    "print(\"The test log loss is:\",log_loss(test_y, predict_y, labels=xgb_clf.classes_, eps=1e-15))"
   ]
  },
  {
   "cell_type": "code",
   "execution_count": 11,
   "metadata": {},
   "outputs": [
    {
     "data": {
      "image/png": "[encoded data removed]",
      "text/plain": [
       "<Figure size 1440x288 with 6 Axes>"
      ]
     },
     "metadata": {
      "needs_background": "light"
     },
     "output_type": "display_data"
    }
   ],
   "source": [
    "predicted_y = np.argmax(predict_y, axis=1)\n",
    "plot_confusion_matrix(test_y, predicted_y)"
   ]
  },
  {
   "cell_type": "markdown",
   "metadata": {},
   "source": [
    "## Summary"
   ]
  },
  {
   "cell_type": "code",
   "execution_count": 12,
   "metadata": {},
   "outputs": [
    {
     "name": "stdout",
     "output_type": "stream",
     "text": [
      "+---------------------+----------------------+\n",
      "|        Model        |         Loss         |\n",
      "+---------------------+----------------------+\n",
      "|        Random       |  0.8838083513668935  |\n",
      "| Logistic Regression |  0.5539907537916293  |\n",
      "|         SVM         |   0.582691692534217  |\n",
      "|       XGBoost       |  0.40530914447517785 |\n",
      "+---------------------+----------------------+\n"
     ]
    }
   ],
   "source": [
    "table = PrettyTable()\n",
    "table.field_names = ['Model', 'Loss']\n",
    "table.add_row(['Random', '0.8838083513668935'])\n",
    "table.add_row(['Logistic Regression', '0.5539907537916293'])\n",
    "table.add_row(['SVM',' 0.582691692534217'])\n",
    "table.add_row(['XGBoost', ' 0.40530914447517785'])\n",
    "print(table)"
   ]
  },
  {
   "cell_type": "markdown",
   "metadata": {},
   "source": [
    "## Observation:\n",
    "- Using avg w2v as text featurization, XGBoost is performing better than others as it give lowest log loss of 0.405"
   ]
  }
 ],
 "metadata": {
  "kernelspec": {
   "display_name": "Python 3",
   "language": "python",
   "name": "python3"
  },
  "language_info": {
   "codemirror_mode": {
    "name": "ipython",
    "version": 3
   },
   "file_extension": ".py",
   "mimetype": "text/x-python",
   "name": "python",
   "nbconvert_exporter": "python",
   "pygments_lexer": "ipython3",
   "version": "3.6.5"
  }
 },
 "nbformat": 4,
 "nbformat_minor": 2
}
